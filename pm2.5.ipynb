{
 "cells": [
  {
   "cell_type": "code",
   "execution_count": 2,
   "metadata": {},
   "outputs": [],
   "source": [
    "import pandas as pd"
   ]
  },
  {
   "cell_type": "code",
   "execution_count": 13,
   "metadata": {},
   "outputs": [],
   "source": [
    "url='http://sta.ci.taiwan.gov.tw/STA_AirQuality_v2/v1.0/Datastreams?$expand=Thing,Observations($orderby=phenomenonTime%20desc;$top=1)&$filter=name%20eq%20%27PM2.5%27%20and%20Thing/properties/authority%20eq%20%27%E8%A1%8C%E6%94%BF%E9%99%A2%E7%92%B0%E5%A2%83%E4%BF%9D%E8%AD%B7%E7%BD%B2%27%20and%20substringof(%27%E7%A9%BA%E6%B0%A3%E5%93%81%E8%B3%AA%E6%B8%AC%E7%AB%99%27,Thing/name)&$count=true'"
   ]
  },
  {
   "cell_type": "code",
   "execution_count": 15,
   "metadata": {},
   "outputs": [
    {
     "data": {
      "text/plain": [
       "0     {'description': '細懸浮微粒 PM2.5', '@iot.id': 11, ...\n",
       "1     {'description': '細懸浮微粒 PM2.5', '@iot.id': 29, ...\n",
       "2     {'description': '細懸浮微粒 PM2.5', '@iot.id': 47, ...\n",
       "3     {'description': '細懸浮微粒 PM2.5', '@iot.id': 65, ...\n",
       "4     {'description': '細懸浮微粒 PM2.5', '@iot.id': 83, ...\n",
       "                            ...                        \n",
       "72    {'description': '細懸浮微粒 PM2.5', '@iot.id': 1307...\n",
       "73    {'description': '細懸浮微粒 PM2.5', '@iot.id': 1325...\n",
       "74    {'description': '細懸浮微粒 PM2.5', '@iot.id': 1343...\n",
       "75    {'description': '細懸浮微粒 PM2.5', '@iot.id': 1361...\n",
       "76    {'description': '細懸浮微粒 PM2.5', '@iot.id': 1379...\n",
       "Name: value, Length: 77, dtype: object"
      ]
     },
     "execution_count": 15,
     "metadata": {},
     "output_type": "execute_result"
    }
   ],
   "source": [
    "datas=pd.read_json(url)['value']\n",
    "datas"
   ]
  },
  {
   "cell_type": "markdown",
   "metadata": {},
   "source": [
    "## 取得站點資料"
   ]
  },
  {
   "cell_type": "code",
   "execution_count": 21,
   "metadata": {},
   "outputs": [
    {
     "data": {
      "text/plain": [
       "('基隆市', '基隆')"
      ]
     },
     "execution_count": 21,
     "metadata": {},
     "output_type": "execute_result"
    }
   ],
   "source": [
    "city,stationName=datas[0]['Thing']['properties']['city'],datas[0]['Thing']['properties']['stationName']\n",
    "city,stationName"
   ]
  },
  {
   "cell_type": "markdown",
   "metadata": {},
   "source": [
    "## 取得pm2.5更新時間"
   ]
  },
  {
   "cell_type": "code",
   "execution_count": 16,
   "metadata": {},
   "outputs": [
    {
     "data": {
      "text/plain": [
       "(11, '2022-06-19T05:00:00.000Z')"
      ]
     },
     "execution_count": 16,
     "metadata": {},
     "output_type": "execute_result"
    }
   ],
   "source": [
    "result,resultTime=datas[0]['Observations'][0]['result'], datas[0]['Observations'][0]['resultTime']\n",
    "result,resultTime"
   ]
  },
  {
   "cell_type": "markdown",
   "metadata": {},
   "source": [
    "## 輸出所有站點資料"
   ]
  },
  {
   "cell_type": "code",
   "execution_count": 20,
   "metadata": {},
   "outputs": [
    {
     "name": "stdout",
     "output_type": "stream",
     "text": [
      "基隆市 基隆 11 2022-06-19T05:00:00.000Z\n",
      "新北市 汐止 13 2022-06-19T05:00:00.000Z\n",
      "新北市 萬里 17 2022-06-19T05:00:00.000Z\n",
      "新北市 新店 12 2022-06-19T05:00:00.000Z\n",
      "新北市 土城 8 2022-06-19T05:00:00.000Z\n",
      "新北市 板橋 8 2022-06-19T05:00:00.000Z\n",
      "新北市 新莊 14 2022-06-19T05:00:00.000Z\n",
      "新北市 菜寮 14 2022-06-19T05:00:00.000Z\n",
      "新北市 林口 15 2022-06-19T05:00:00.000Z\n",
      "新北市 淡水 17 2022-06-19T05:00:00.000Z\n",
      "臺北市 士林 21 2022-06-19T05:00:00.000Z\n",
      "臺北市 中山 11 2022-06-19T05:00:00.000Z\n",
      "臺北市 萬華 11 2022-06-19T05:00:00.000Z\n",
      "臺北市 古亭 13 2022-06-19T05:00:00.000Z\n",
      "臺北市 松山 22 2022-06-19T05:00:00.000Z\n",
      "臺北市 大同 17 2022-06-19T05:00:00.000Z\n",
      "桃園市 桃園 16 2022-06-19T05:00:00.000Z\n",
      "桃園市 大園 23 2022-06-19T05:00:00.000Z\n",
      "桃園市 觀音 18 2022-06-19T05:00:00.000Z\n",
      "桃園市 平鎮 12 2022-06-19T05:00:00.000Z\n",
      "桃園市 龍潭 15 2022-06-19T05:00:00.000Z\n",
      "新竹縣 湖口 14 2022-06-19T05:00:00.000Z\n",
      "新竹縣 竹東 12 2022-06-19T05:00:00.000Z\n",
      "新竹市 新竹 11 2022-06-19T05:00:00.000Z\n",
      "苗栗縣 頭份 12 2022-06-19T05:00:00.000Z\n",
      "苗栗縣 苗栗 17 2022-06-19T05:00:00.000Z\n",
      "苗栗縣 三義 13 2022-06-19T05:00:00.000Z\n",
      "臺中市 豐原 18 2022-06-19T05:00:00.000Z\n",
      "臺中市 沙鹿 15 2022-06-19T05:00:00.000Z\n",
      "臺中市 大里 14 2022-06-19T05:00:00.000Z\n",
      "臺中市 忠明 19 2022-06-19T05:00:00.000Z\n",
      "臺中市 西屯 15 2022-06-19T05:00:00.000Z\n",
      "彰化縣 彰化 9 2022-06-19T05:00:00.000Z\n",
      "彰化縣 線西 19 2022-06-19T05:00:00.000Z\n",
      "彰化縣 二林 12 2022-06-19T05:00:00.000Z\n",
      "南投縣 南投 16 2022-06-19T05:00:00.000Z\n",
      "雲林縣 斗六 13 2022-06-19T05:00:00.000Z\n",
      "雲林縣 崙背 11 2022-06-19T05:00:00.000Z\n",
      "嘉義縣 新港 11 2022-06-19T05:00:00.000Z\n",
      "嘉義縣 朴子 18 2022-06-19T05:00:00.000Z\n",
      "雲林縣 臺西 14 2022-06-19T05:00:00.000Z\n",
      "嘉義市 嘉義 12 2022-06-19T05:00:00.000Z\n",
      "臺南市 新營 9 2022-06-19T05:00:00.000Z\n",
      "臺南市 善化 14 2022-06-19T05:00:00.000Z\n",
      "臺南市 安南 12 2022-06-19T05:00:00.000Z\n",
      "臺南市 臺南 13 2022-06-19T05:00:00.000Z\n",
      "高雄市 美濃 11 2022-06-19T05:00:00.000Z\n",
      "高雄市 橋頭 10 2022-06-19T05:00:00.000Z\n",
      "高雄市 仁武 13 2022-06-19T05:00:00.000Z\n",
      "高雄市 鳳山 14 2022-06-19T05:00:00.000Z\n",
      "高雄市 大寮 11 2022-06-19T05:00:00.000Z\n",
      "高雄市 林園 13 2022-06-19T05:00:00.000Z\n",
      "高雄市 楠梓 15 2022-06-19T05:00:00.000Z\n",
      "高雄市 左營 13 2022-06-19T05:00:00.000Z\n",
      "高雄市 前金 10 2022-06-19T05:00:00.000Z\n",
      "高雄市 前鎮 16 2022-06-19T05:00:00.000Z\n",
      "高雄市 小港 10 2022-06-19T05:00:00.000Z\n",
      "屏東縣 屏東 15 2022-06-19T05:00:00.000Z\n",
      "屏東縣 潮州 8 2022-06-19T05:00:00.000Z\n",
      "屏東縣 恆春 12 2022-06-19T05:00:00.000Z\n",
      "臺東縣 臺東 9 2022-06-19T05:00:00.000Z\n",
      "花蓮縣 花蓮 8 2022-06-19T05:00:00.000Z\n",
      "臺北市 陽明 16 2022-06-19T05:00:00.000Z\n",
      "宜蘭縣 宜蘭 7 2022-06-19T05:00:00.000Z\n",
      "宜蘭縣 冬山 6 2022-06-19T05:00:00.000Z\n",
      "新北市 三重 14 2022-06-19T05:00:00.000Z\n",
      "桃園市 中壢 14 2022-06-19T05:00:00.000Z\n",
      "南投縣 竹山 12 2022-06-19T05:00:00.000Z\n",
      "新北市 永和 15 2022-06-19T05:00:00.000Z\n",
      "高雄市 復興 7 2022-06-19T05:00:00.000Z\n",
      "南投縣 埔里 9 2022-06-19T05:00:00.000Z\n",
      "新北市 富貴角 9 2022-06-19T05:00:00.000Z\n",
      "臺東縣 關山 5 2022-06-19T05:00:00.000Z\n",
      "金門縣 金門 13 2022-06-19T05:00:00.000Z\n",
      "連江縣 馬祖 12 2022-06-19T05:00:00.000Z\n",
      "澎湖縣 馬公 15 2022-06-19T05:00:00.000Z\n",
      "雲林縣 麥寮 11 2022-06-19T05:00:00.000Z\n"
     ]
    }
   ],
   "source": [
    "values=[]\n",
    "for data in datas:\n",
    "    city,stationName=data['Thing']['properties']['city'],data['Thing']['properties']['stationName']\n",
    "    result,resultTime=data['Observations'][0]['result'], data['Observations'][0]['resultTime']\n",
    "    print(city,stationName,result,resultTime)\n",
    "    values.append([city,stationName,result,resultTime])\n"
   ]
  },
  {
   "cell_type": "code",
   "execution_count": null,
   "metadata": {},
   "outputs": [],
   "source": []
  }
 ],
 "metadata": {
  "interpreter": {
   "hash": "e970c0163c9c00868424cad4009643c5c6b1ed435e4b96c7dcc7a051b24a8d3a"
  },
  "kernelspec": {
   "display_name": "Python 3.8.8 ('base')",
   "language": "python",
   "name": "python3"
  },
  "language_info": {
   "codemirror_mode": {
    "name": "ipython",
    "version": 3
   },
   "file_extension": ".py",
   "mimetype": "text/x-python",
   "name": "python",
   "nbconvert_exporter": "python",
   "pygments_lexer": "ipython3",
   "version": "3.8.8"
  },
  "orig_nbformat": 4
 },
 "nbformat": 4,
 "nbformat_minor": 2
}
